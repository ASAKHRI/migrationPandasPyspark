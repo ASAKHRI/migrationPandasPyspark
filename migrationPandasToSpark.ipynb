{
 "cells": [
  {
   "cell_type": "code",
   "execution_count": 2,
   "metadata": {},
   "outputs": [],
   "source": [
    "import pyspark\n",
    "from pyspark.sql import SparkSession\n",
    "from pyspark.sql.functions import *\n",
    "from pyspark.sql import functions as F \n",
    "\n",
    "import pandas as pd"
   ]
  },
  {
   "cell_type": "code",
   "execution_count": 3,
   "metadata": {},
   "outputs": [
    {
     "name": "stderr",
     "output_type": "stream",
     "text": [
      "your 131072x1 screen size is bogus. expect trouble\n",
      "24/09/13 09:30:44 WARN Utils: Your hostname, GIGABYTENEJ resolves to a loopback address: 127.0.1.1; using 10.255.255.254 instead (on interface lo)\n",
      "24/09/13 09:30:44 WARN Utils: Set SPARK_LOCAL_IP if you need to bind to another address\n",
      "Setting default log level to \"WARN\".\n",
      "To adjust logging level use sc.setLogLevel(newLevel). For SparkR, use setLogLevel(newLevel).\n",
      "24/09/13 09:30:44 WARN NativeCodeLoader: Unable to load native-hadoop library for your platform... using builtin-java classes where applicable\n"
     ]
    }
   ],
   "source": [
    "spark = SparkSession.builder.appName(\"Read CSV with PySpark\").getOrCreate()"
   ]
  },
  {
   "cell_type": "markdown",
   "metadata": {},
   "source": [
    "## Agg_Departments"
   ]
  },
  {
   "cell_type": "code",
   "execution_count": 4,
   "metadata": {},
   "outputs": [
    {
     "data": {
      "text/html": [
       "<div>\n",
       "<style scoped>\n",
       "    .dataframe tbody tr th:only-of-type {\n",
       "        vertical-align: middle;\n",
       "    }\n",
       "\n",
       "    .dataframe tbody tr th {\n",
       "        vertical-align: top;\n",
       "    }\n",
       "\n",
       "    .dataframe thead tr th {\n",
       "        text-align: left;\n",
       "    }\n",
       "</style>\n",
       "<table border=\"1\" class=\"dataframe\">\n",
       "  <thead>\n",
       "    <tr>\n",
       "      <th></th>\n",
       "      <th>department</th>\n",
       "      <th>visit_count</th>\n",
       "      <th colspan=\"2\" halign=\"left\">age</th>\n",
       "    </tr>\n",
       "    <tr>\n",
       "      <th></th>\n",
       "      <th></th>\n",
       "      <th>sum</th>\n",
       "      <th>mean</th>\n",
       "      <th>max</th>\n",
       "    </tr>\n",
       "  </thead>\n",
       "  <tbody>\n",
       "    <tr>\n",
       "      <th>0</th>\n",
       "      <td>Cardiology</td>\n",
       "      <td>24</td>\n",
       "      <td>36.333333</td>\n",
       "      <td>52</td>\n",
       "    </tr>\n",
       "    <tr>\n",
       "      <th>1</th>\n",
       "      <td>Neurology</td>\n",
       "      <td>12</td>\n",
       "      <td>45.000000</td>\n",
       "      <td>45</td>\n",
       "    </tr>\n",
       "    <tr>\n",
       "      <th>2</th>\n",
       "      <td>Orthopedics</td>\n",
       "      <td>8</td>\n",
       "      <td>64.000000</td>\n",
       "      <td>64</td>\n",
       "    </tr>\n",
       "  </tbody>\n",
       "</table>\n",
       "</div>"
      ],
      "text/plain": [
       "    department visit_count        age    \n",
       "                       sum       mean max\n",
       "0   Cardiology          24  36.333333  52\n",
       "1    Neurology          12  45.000000  45\n",
       "2  Orthopedics           8  64.000000  64"
      ]
     },
     "execution_count": 4,
     "metadata": {},
     "output_type": "execute_result"
    }
   ],
   "source": [
    "# Données\n",
    "df = pd.DataFrame({\n",
    "    'patient_id': [1, 2, 3, 4, 5],\n",
    "    'age': [34, 45, 23, 64, 52],\n",
    "    'department': ['Cardiology', 'Neurology', 'Cardiology', 'Orthopedics', 'Cardiology'],\n",
    "    'visit_count': [10, 12, 5, 8, 9]\n",
    "})\n",
    "\n",
    "# GroupBy et calculs statistiques\n",
    "agg_df = df.groupby('department').agg({\n",
    "    'visit_count': 'sum',\n",
    "    'age': ['mean', 'max']\n",
    "}).reset_index()\n",
    "\n",
    "agg_df"
   ]
  },
  {
   "cell_type": "code",
   "execution_count": 22,
   "metadata": {},
   "outputs": [
    {
     "data": {
      "text/plain": [
       "patient_id       int64\n",
       "age              int64\n",
       "department      object\n",
       "age_category    object\n",
       "dtype: object"
      ]
     },
     "execution_count": 22,
     "metadata": {},
     "output_type": "execute_result"
    }
   ],
   "source": [
    "df.dtypes"
   ]
  },
  {
   "cell_type": "markdown",
   "metadata": {},
   "source": [
    "### creation du dataframe en pyspark"
   ]
  },
  {
   "cell_type": "code",
   "execution_count": 6,
   "metadata": {},
   "outputs": [
    {
     "name": "stdout",
     "output_type": "stream",
     "text": [
      "root\n",
      " |-- patient_id: long (nullable = true)\n",
      " |-- age: long (nullable = true)\n",
      " |-- department: string (nullable = true)\n",
      " |-- visit_count: long (nullable = true)\n",
      "\n"
     ]
    },
    {
     "name": "stderr",
     "output_type": "stream",
     "text": [
      "                                                                                \r"
     ]
    },
    {
     "name": "stdout",
     "output_type": "stream",
     "text": [
      "+----------+---+-----------+-----------+\n",
      "|patient_id|age|department |visit_count|\n",
      "+----------+---+-----------+-----------+\n",
      "|1         |34 |Cardiology |10         |\n",
      "|2         |45 |Neurology  |12         |\n",
      "|3         |23 |Cardiology |5          |\n",
      "|4         |64 |Orthopedics|8          |\n",
      "|5         |52 |Cardiology |9          |\n",
      "+----------+---+-----------+-----------+\n",
      "\n"
     ]
    }
   ],
   "source": [
    "emp = [(1, 34, \"Cardiology\", 10), \\\n",
    "    (2,45,\"Neurology\",12), \\\n",
    "    (3,23,\"Cardiology\",5), \\\n",
    "    (4,64,\"Orthopedics\",8), \\\n",
    "    (5,52,\"Cardiology\",9)\n",
    "  ]\n",
    "empColumns = [\"patient_id\",\"age\",\"department\",\"visit_count\"]\n",
    "\n",
    "empDF = spark.createDataFrame(data=emp, schema = empColumns)\n",
    "empDF.printSchema()\n",
    "empDF.show(truncate=False)"
   ]
  },
  {
   "cell_type": "markdown",
   "metadata": {},
   "source": [
    "### groupby et calcul statistique en pyspark"
   ]
  },
  {
   "cell_type": "code",
   "execution_count": 24,
   "metadata": {},
   "outputs": [
    {
     "name": "stdout",
     "output_type": "stream",
     "text": [
      "+-----------+----------------+------------------+--------+\n",
      "|department |sum(visit_count)|avg(age)          |max(age)|\n",
      "+-----------+----------------+------------------+--------+\n",
      "|Cardiology |24              |36.333333333333336|52      |\n",
      "|Neurology  |12              |45.0              |45      |\n",
      "|Orthopedics|8               |64.0              |64      |\n",
      "+-----------+----------------+------------------+--------+\n",
      "\n"
     ]
    }
   ],
   "source": [
    "group = (\n",
    "    empDF\n",
    "    .groupBy(\"department\")\n",
    "    .agg(\n",
    "        F.sum(F.col('visit_count')),\n",
    "        F.avg(F.col('age')),\n",
    "        F.max(F.col('age'))\n",
    "    )\n",
    ")\n",
    "group.show(truncate=False)"
   ]
  },
  {
   "cell_type": "markdown",
   "metadata": {},
   "source": [
    "#### test des aggregations"
   ]
  },
  {
   "cell_type": "code",
   "execution_count": null,
   "metadata": {},
   "outputs": [],
   "source": []
  },
  {
   "cell_type": "markdown",
   "metadata": {},
   "source": [
    "## Concat Medical Info"
   ]
  },
  {
   "cell_type": "code",
   "execution_count": 8,
   "metadata": {},
   "outputs": [
    {
     "data": {
      "text/html": [
       "<div>\n",
       "<style scoped>\n",
       "    .dataframe tbody tr th:only-of-type {\n",
       "        vertical-align: middle;\n",
       "    }\n",
       "\n",
       "    .dataframe tbody tr th {\n",
       "        vertical-align: top;\n",
       "    }\n",
       "\n",
       "    .dataframe thead th {\n",
       "        text-align: right;\n",
       "    }\n",
       "</style>\n",
       "<table border=\"1\" class=\"dataframe\">\n",
       "  <thead>\n",
       "    <tr style=\"text-align: right;\">\n",
       "      <th></th>\n",
       "      <th>patient_name</th>\n",
       "      <th>diagnosis</th>\n",
       "      <th>diagnosis_lower</th>\n",
       "      <th>full_info</th>\n",
       "    </tr>\n",
       "  </thead>\n",
       "  <tbody>\n",
       "    <tr>\n",
       "      <th>0</th>\n",
       "      <td>John Doe</td>\n",
       "      <td>Diabetes</td>\n",
       "      <td>diabetes</td>\n",
       "      <td>John Doe - diabetes</td>\n",
       "    </tr>\n",
       "    <tr>\n",
       "      <th>1</th>\n",
       "      <td>Jane Smith</td>\n",
       "      <td>Heart Disease</td>\n",
       "      <td>heart disease</td>\n",
       "      <td>Jane Smith - heart disease</td>\n",
       "    </tr>\n",
       "    <tr>\n",
       "      <th>2</th>\n",
       "      <td>Alice Brown</td>\n",
       "      <td>Hypertension</td>\n",
       "      <td>hypertension</td>\n",
       "      <td>Alice Brown - hypertension</td>\n",
       "    </tr>\n",
       "  </tbody>\n",
       "</table>\n",
       "</div>"
      ],
      "text/plain": [
       "  patient_name      diagnosis diagnosis_lower                   full_info\n",
       "0     John Doe       Diabetes        diabetes         John Doe - diabetes\n",
       "1   Jane Smith  Heart Disease   heart disease  Jane Smith - heart disease\n",
       "2  Alice Brown   Hypertension    hypertension  Alice Brown - hypertension"
      ]
     },
     "execution_count": 8,
     "metadata": {},
     "output_type": "execute_result"
    }
   ],
   "source": [
    "# Données\n",
    "df = pd.DataFrame(\n",
    "    {\n",
    "        'patient_name': ['John Doe', 'Jane Smith', 'Alice Brown'],\n",
    "        'diagnosis': ['Diabetes', 'Heart Disease', 'Hypertension'],\n",
    "    }\n",
    ")\n",
    "\n",
    "# Conversion en minuscules et ajout d'un champ\n",
    "df['diagnosis_lower'] = df['diagnosis'].str.lower()\n",
    "df['full_info'] = df['patient_name'] + ' - ' + df['diagnosis_lower']\n",
    "\n",
    "df\n"
   ]
  },
  {
   "cell_type": "code",
   "execution_count": 9,
   "metadata": {},
   "outputs": [
    {
     "name": "stdout",
     "output_type": "stream",
     "text": [
      "root\n",
      " |-- patient_name: string (nullable = true)\n",
      " |-- diagnosis: string (nullable = true)\n",
      "\n",
      "+------------+-------------+\n",
      "|patient_name|diagnosis    |\n",
      "+------------+-------------+\n",
      "|John Doe    |Diabetes     |\n",
      "|Jane Smith  |Heart Disease|\n",
      "|Alice Brown |Hypertension |\n",
      "+------------+-------------+\n",
      "\n"
     ]
    }
   ],
   "source": [
    "medInfo = [(\"John Doe\", \"Diabetes\"), \\\n",
    "    (\"Jane Smith\",\"Heart Disease\"), \\\n",
    "    (\"Alice Brown\",\"Hypertension\")\n",
    "  ]\n",
    "empColumns = [\"patient_name\",\"diagnosis\"]\n",
    "\n",
    "medInfo = spark.createDataFrame(data=medInfo, schema = empColumns)\n",
    "medInfo.printSchema()\n",
    "medInfo.show(truncate=False)"
   ]
  },
  {
   "cell_type": "code",
   "execution_count": 10,
   "metadata": {},
   "outputs": [],
   "source": [
    "fullDf = medInfo.withColumn(\n",
    "    'diagnosis_lower',\n",
    "        F.lower(\n",
    "            F.col(\"diagnosis\")\n",
    "            )\n",
    "        )\n",
    "    "
   ]
  },
  {
   "cell_type": "code",
   "execution_count": 11,
   "metadata": {},
   "outputs": [
    {
     "name": "stdout",
     "output_type": "stream",
     "text": [
      "+------------+-------------+---------------+--------------------+\n",
      "|patient_name|    diagnosis|diagnosis_lower|           full_info|\n",
      "+------------+-------------+---------------+--------------------+\n",
      "|    John Doe|     Diabetes|       diabetes| John Doe - Diabetes|\n",
      "|  Jane Smith|Heart Disease|  heart disease|Jane Smith - Hear...|\n",
      "| Alice Brown| Hypertension|   hypertension|Alice Brown - Hyp...|\n",
      "+------------+-------------+---------------+--------------------+\n",
      "\n"
     ]
    }
   ],
   "source": [
    "fullDf2 = fullDf.withColumn(\n",
    "        'full_info', F.concat(\n",
    "            F.col(\n",
    "                \"patient_name\"\n",
    "            ),\n",
    "            F.lit(\n",
    "                \" - \"\n",
    "                ),\n",
    "            F.col(\"diagnosis\")\n",
    "        )\n",
    "    )    \n",
    "\n",
    "fullDf2.show()"
   ]
  },
  {
   "cell_type": "markdown",
   "metadata": {},
   "source": [
    "#### test concat_medicalinfo"
   ]
  },
  {
   "cell_type": "code",
   "execution_count": null,
   "metadata": {},
   "outputs": [],
   "source": []
  },
  {
   "cell_type": "markdown",
   "metadata": {},
   "source": [
    "## Conditionnal calculation"
   ]
  },
  {
   "cell_type": "code",
   "execution_count": 12,
   "metadata": {},
   "outputs": [
    {
     "data": {
      "text/html": [
       "<div>\n",
       "<style scoped>\n",
       "    .dataframe tbody tr th:only-of-type {\n",
       "        vertical-align: middle;\n",
       "    }\n",
       "\n",
       "    .dataframe tbody tr th {\n",
       "        vertical-align: top;\n",
       "    }\n",
       "\n",
       "    .dataframe thead th {\n",
       "        text-align: right;\n",
       "    }\n",
       "</style>\n",
       "<table border=\"1\" class=\"dataframe\">\n",
       "  <thead>\n",
       "    <tr style=\"text-align: right;\">\n",
       "      <th></th>\n",
       "      <th>patient_id</th>\n",
       "      <th>age</th>\n",
       "      <th>department</th>\n",
       "      <th>age_category</th>\n",
       "    </tr>\n",
       "  </thead>\n",
       "  <tbody>\n",
       "    <tr>\n",
       "      <th>0</th>\n",
       "      <td>1</td>\n",
       "      <td>34</td>\n",
       "      <td>Cardiology</td>\n",
       "      <td>adult</td>\n",
       "    </tr>\n",
       "    <tr>\n",
       "      <th>1</th>\n",
       "      <td>2</td>\n",
       "      <td>70</td>\n",
       "      <td>Neurology</td>\n",
       "      <td>senior</td>\n",
       "    </tr>\n",
       "    <tr>\n",
       "      <th>2</th>\n",
       "      <td>3</td>\n",
       "      <td>50</td>\n",
       "      <td>Orthopedics</td>\n",
       "      <td>adult</td>\n",
       "    </tr>\n",
       "    <tr>\n",
       "      <th>3</th>\n",
       "      <td>4</td>\n",
       "      <td>20</td>\n",
       "      <td>Cardiology</td>\n",
       "      <td>adult</td>\n",
       "    </tr>\n",
       "    <tr>\n",
       "      <th>4</th>\n",
       "      <td>5</td>\n",
       "      <td>15</td>\n",
       "      <td>Neurology</td>\n",
       "      <td>minor</td>\n",
       "    </tr>\n",
       "  </tbody>\n",
       "</table>\n",
       "</div>"
      ],
      "text/plain": [
       "   patient_id  age   department age_category\n",
       "0           1   34   Cardiology        adult\n",
       "1           2   70    Neurology       senior\n",
       "2           3   50  Orthopedics        adult\n",
       "3           4   20   Cardiology        adult\n",
       "4           5   15    Neurology        minor"
      ]
     },
     "execution_count": 12,
     "metadata": {},
     "output_type": "execute_result"
    }
   ],
   "source": [
    "# Données\n",
    "df = pd.DataFrame(\n",
    "    {\n",
    "        'patient_id': [1, 2, 3, 4, 5],\n",
    "        'age': [34, 70, 50, 20, 15],\n",
    "        'department': [\n",
    "            'Cardiology',\n",
    "            'Neurology',\n",
    "            'Orthopedics',\n",
    "            'Cardiology',\n",
    "            'Neurology',\n",
    "        ],\n",
    "    }\n",
    ")\n",
    "\n",
    "# Ajout d'une colonne conditionnelle (catégorie d'âge)\n",
    "df['age_category'] = df['age'].apply(\n",
    "    lambda x: 'senior' if x > 60 else 'adult' if x > 18 else 'minor'\n",
    ")\n",
    "\n",
    "df"
   ]
  },
  {
   "cell_type": "code",
   "execution_count": 13,
   "metadata": {},
   "outputs": [
    {
     "name": "stdout",
     "output_type": "stream",
     "text": [
      "root\n",
      " |-- patient_id: long (nullable = true)\n",
      " |-- age: long (nullable = true)\n",
      " |-- diagnosis: string (nullable = true)\n",
      "\n",
      "+----------+---+-----------+\n",
      "|patient_id|age|diagnosis  |\n",
      "+----------+---+-----------+\n",
      "|1         |34 |Cardiology |\n",
      "|2         |70 |Neurology  |\n",
      "|3         |50 |Orthopedics|\n",
      "|4         |20 |Cardiology |\n",
      "|5         |15 |Neurology  |\n",
      "+----------+---+-----------+\n",
      "\n"
     ]
    }
   ],
   "source": [
    "dF = [(1,34,\"Cardiology\"), \\\n",
    "           (2,70,\"Neurology\"), \\\n",
    "           (3,50,\"Orthopedics\"),\\\n",
    "           (4,20,\"Cardiology\"),\\\n",
    "           (5,15,\"Neurology\")  \n",
    "  ]\n",
    "empColumns = [\"patient_id\",\"age\",\"diagnosis\"]\n",
    "\n",
    "dF = spark.createDataFrame(data=dF, schema = empColumns)\n",
    "dF.printSchema()\n",
    "dF.show(truncate=False)"
   ]
  },
  {
   "cell_type": "code",
   "execution_count": 14,
   "metadata": {},
   "outputs": [
    {
     "name": "stdout",
     "output_type": "stream",
     "text": [
      "+----------+---+-----------+------------+\n",
      "|patient_id|age|  diagnosis|age_category|\n",
      "+----------+---+-----------+------------+\n",
      "|         1| 34| Cardiology|       Adult|\n",
      "|         2| 70|  Neurology|      Senior|\n",
      "|         3| 50|Orthopedics|       Adult|\n",
      "|         4| 20| Cardiology|       Adult|\n",
      "|         5| 15|  Neurology|       Minor|\n",
      "+----------+---+-----------+------------+\n",
      "\n"
     ]
    }
   ],
   "source": [
    "dF2 = dF.withColumn(\"age_category\", \n",
    "                    F.when(\n",
    "                        dF.age >= 60,\"Senior\"\n",
    "                        )\n",
    "                    .when(\n",
    "                        dF.age >18 ,\"Adult\"\n",
    "                        )\n",
    "                    .otherwise(\"Minor\")\n",
    "                    )\n",
    "dF2.show()"
   ]
  },
  {
   "cell_type": "markdown",
   "metadata": {},
   "source": [
    "#### test conditionnal calculation"
   ]
  },
  {
   "cell_type": "code",
   "execution_count": null,
   "metadata": {},
   "outputs": [],
   "source": []
  },
  {
   "cell_type": "markdown",
   "metadata": {},
   "source": [
    "## data filteringPatient"
   ]
  },
  {
   "cell_type": "code",
   "execution_count": 15,
   "metadata": {},
   "outputs": [
    {
     "name": "stdout",
     "output_type": "stream",
     "text": [
      "+----------+---+-----------+\n",
      "|patient_id|age|  diagnosis|\n",
      "+----------+---+-----------+\n",
      "|         1| 34| Cardiology|\n",
      "|         2| 70|  Neurology|\n",
      "|         3| 50|Orthopedics|\n",
      "+----------+---+-----------+\n",
      "\n"
     ]
    }
   ],
   "source": [
    "filtreDf  = dF.filter(dF.age > 30)\n",
    "filtreDf.show()"
   ]
  },
  {
   "cell_type": "code",
   "execution_count": null,
   "metadata": {},
   "outputs": [],
   "source": []
  },
  {
   "cell_type": "markdown",
   "metadata": {},
   "source": [
    "## Missing values"
   ]
  },
  {
   "cell_type": "code",
   "execution_count": 17,
   "metadata": {},
   "outputs": [
    {
     "name": "stdout",
     "output_type": "stream",
     "text": [
      "root\n",
      " |-- patient_id: long (nullable = true)\n",
      " |-- age: long (nullable = true)\n",
      " |-- diagnosis: string (nullable = true)\n",
      "\n",
      "+----------+----+-----------+\n",
      "|patient_id|age |diagnosis  |\n",
      "+----------+----+-----------+\n",
      "|1         |34  |Cardiology |\n",
      "|2         |NULL|Neurology  |\n",
      "|3         |50  |Orthopedics|\n",
      "|4         |NULL|NULL       |\n",
      "|5         |15  |Neurology  |\n",
      "+----------+----+-----------+\n",
      "\n"
     ]
    }
   ],
   "source": [
    "ddF = [(1,34,\"Cardiology\"), \\\n",
    "           (2,None,\"Neurology\"), \\\n",
    "           (3,50,\"Orthopedics\"),\\\n",
    "           (4,None,None),\\\n",
    "           (5,15,\"Neurology\")  \n",
    "  ]\n",
    "empColumns = [\"patient_id\",\"age\",\"diagnosis\"]\n",
    "\n",
    "ddF = spark.createDataFrame(data=ddF, schema = empColumns)\n",
    "ddF.printSchema()\n",
    "ddF.show(truncate=False)"
   ]
  },
  {
   "cell_type": "code",
   "execution_count": 18,
   "metadata": {},
   "outputs": [
    {
     "name": "stdout",
     "output_type": "stream",
     "text": [
      "root\n",
      " |-- patient_id: long (nullable = true)\n",
      " |-- age: long (nullable = true)\n",
      " |-- diagnosis: string (nullable = true)\n",
      "\n",
      "+----------+----+-----------+\n",
      "|patient_id|age |diagnosis  |\n",
      "+----------+----+-----------+\n",
      "|1         |34  |Cardiology |\n",
      "|2         |NULL|Neurology  |\n",
      "|3         |50  |Orthopedics|\n",
      "|4         |NULL|NULL       |\n",
      "|5         |15  |Neurology  |\n",
      "+----------+----+-----------+\n",
      "\n"
     ]
    }
   ],
   "source": [
    "ddF = [(1,34,\"Cardiology\"), \\\n",
    "           (2,None,\"Neurology\"), \\\n",
    "           (3,50,\"Orthopedics\"),\\\n",
    "           (4,None,None),\\\n",
    "           (5,15,\"Neurology\")  \n",
    "  ]\n",
    "empColumns = [\"patient_id\",\"age\",\"diagnosis\"]\n",
    "\n",
    "ddF = spark.createDataFrame(data=ddF, schema = empColumns)\n",
    "ddF.printSchema()\n",
    "ddF.show(truncate=False)"
   ]
  },
  {
   "cell_type": "code",
   "execution_count": 19,
   "metadata": {},
   "outputs": [],
   "source": [
    "mean_val=ddF.select(mean(ddF.age)).head()[0]\n",
    "test = ddF.na.fill(mean_val,subset=['age']).fillna(value = \"Unknown\",subset=['diagnosis'])\n"
   ]
  },
  {
   "cell_type": "code",
   "execution_count": 20,
   "metadata": {},
   "outputs": [
    {
     "name": "stdout",
     "output_type": "stream",
     "text": [
      "+----------+---+-----------+\n",
      "|patient_id|age|  diagnosis|\n",
      "+----------+---+-----------+\n",
      "|         1| 34| Cardiology|\n",
      "|         2| 33|  Neurology|\n",
      "|         3| 50|Orthopedics|\n",
      "|         4| 33|    Unknown|\n",
      "|         5| 15|  Neurology|\n",
      "+----------+---+-----------+\n",
      "\n"
     ]
    }
   ],
   "source": [
    "test.show()"
   ]
  },
  {
   "cell_type": "markdown",
   "metadata": {},
   "source": []
  }
 ],
 "metadata": {
  "kernelspec": {
   "display_name": "simplon",
   "language": "python",
   "name": "python3"
  },
  "language_info": {
   "codemirror_mode": {
    "name": "ipython",
    "version": 3
   },
   "file_extension": ".py",
   "mimetype": "text/x-python",
   "name": "python",
   "nbconvert_exporter": "python",
   "pygments_lexer": "ipython3",
   "version": "3.8.12"
  }
 },
 "nbformat": 4,
 "nbformat_minor": 2
}
